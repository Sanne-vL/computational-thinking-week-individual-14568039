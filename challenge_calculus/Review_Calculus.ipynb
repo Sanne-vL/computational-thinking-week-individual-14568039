{
 "cells": [
  {
   "cell_type": "markdown",
   "id": "d42feff0",
   "metadata": {},
   "source": [
    "Welcome to the calculus review! Calculus is a vital tool in fields like machine learning, helping us analyze complex systems. In this review, we'll remain your knowledge of derivative and integral and connect them with data analysis. Show your understanding by answering the following questions from the Bronze level to Silver and Gold levels."
   ]
  },
  {
   "cell_type": "markdown",
   "id": "44687aad",
   "metadata": {},
   "source": [
    "## Learning goals\n",
    "Refresh your knowledge of calculus:\n",
    "- Derivative of a function\n",
    "- Indefinite integral of a function \n",
    "- Definite integral of a function "
   ]
  },
  {
   "cell_type": "markdown",
   "id": "535ca0f7",
   "metadata": {},
   "source": [
    "# Preparation 1: Derivative of a Power Function\n",
    "\n",
    "a) State the power rule for differentiation.\n",
    "\n",
    "b) Use the power rule to find the derivative of the following power function: \n",
    "   f(x) = 5x^3"
   ]
  },
  {
   "cell_type": "code",
   "execution_count": 1,
   "id": "6d55c8f9",
   "metadata": {},
   "outputs": [],
   "source": [
    "# a) the derivative of x^r, where r is constant and a real number (not negative), is r*x^(r-1)\n",
    "\n",
    "# b)    f(x) = 5x^3    f(x) = 3*5x^(3-1)\n",
    "#       f'(x) = 15x^2"
   ]
  },
  {
   "cell_type": "markdown",
   "id": "763fa8c5",
   "metadata": {},
   "source": [
    "If you can not solve it directly, you can see this Guidance:\n",
    "1. Make sure you are are familiar with the power rule, which states that the derivative of x^n, where n is a constant, is n*x^(n-1).\n",
    "2. Encourage them to substitute the given function into the power rule and apply the rule correctly.\n",
    "3. Remind them to simplify their final answer by combining like terms, if applicable."
   ]
  },
  {
   "cell_type": "markdown",
   "id": "f123c2ab",
   "metadata": {},
   "source": [
    "You can run the following code to see the answer. Please make sure you understand that."
   ]
  },
  {
   "cell_type": "code",
   "execution_count": 2,
   "id": "53290a2b",
   "metadata": {},
   "outputs": [],
   "source": [
    "import base64\n",
    "import numpy as np"
   ]
  },
  {
   "cell_type": "code",
   "execution_count": 3,
   "id": "2e333243",
   "metadata": {},
   "outputs": [
    {
     "name": "stdout",
     "output_type": "stream",
     "text": [
      "The derivative is f'(x) = 15x^2\n",
      "\n"
     ]
    }
   ],
   "source": [
    "# Run the following code to show the answer\n",
    "print(base64.b64decode(\"VGhlIGRlcml2YXRpdmUgaXMgZicoeCkgPSAxNXheMgo=\").decode())"
   ]
  },
  {
   "cell_type": "markdown",
   "id": "8f2135ca",
   "metadata": {},
   "source": [
    "# Preparation 2: Integral of a Power Function\n",
    "\n",
    "a) State the power rule for integration.\n",
    "\n",
    "b) Use the power rule to find the indefinite integral of the following power function: \n",
    "   g(x) = 2x^4"
   ]
  },
  {
   "cell_type": "code",
   "execution_count": null,
   "id": "88b5f546",
   "metadata": {},
   "outputs": [],
   "source": [
    "# a) the integral of x^n, where n is constant (not negative), is (x^(n+1))/(n+1)+C (c being the constant of integration)\n",
    "# b) g(x) = 2x^4    g(x) = 2 * (x^(4+1))/(4+1)+c\n",
    "#    g'(x) = 2 * (x^5)/5+C"
   ]
  },
  {
   "cell_type": "markdown",
   "id": "7c296cae",
   "metadata": {},
   "source": [
    "If you can not solve it directly, you can see this Guidance:\n",
    "\n",
    "1. Ensure that the students are familiar with the power rule for integration, which states that the integral of x^n, where n is a constant (except n = -1), is (x^(n+1))/(n+1) + C, where C is the constant of integration.\n",
    "2. Encourage them to substitute the given function into the power rule and apply the rule correctly.\n",
    "3. Remind them to include the constant of integration (C) in their final answer as it is necessary when finding the indefinite integral."
   ]
  },
  {
   "cell_type": "code",
   "execution_count": 4,
   "id": "f6e4f11d",
   "metadata": {},
   "outputs": [
    {
     "name": "stdout",
     "output_type": "stream",
     "text": [
      "∫ 2x^4 dx = 2 * (x^5)/5 + C\n",
      "\n"
     ]
    }
   ],
   "source": [
    "# Run the following code to show the answer\n",
    "print(base64.b64decode(\"4oirIDJ4XjQgZHggPSAyICogKHheNSkvNSArIEMK=\").decode())"
   ]
  },
  {
   "cell_type": "markdown",
   "id": "da259087",
   "metadata": {},
   "source": [
    "# Background story\n",
    "In the vastness of the universe, there is an ordinary YouTuber who finds himself with a group of loyal subscribers who faithfully watch his engaging videos in a very regular pattern.\n",
    "\n",
    "Eager to learn more about his fans, the YouTuber sought the assistance of two talented students, Student A and Student B. After the YouTuber released a new video, Student A diligently counted the clicks per hour for the first 80 hours, and saved the data in the file \"data_student_A.csv\". Meanwhile, Student B found that the total viewing time (in min) of the video can be accessed by the official website and he recorded the total viewing time of the video in the first 80 hours in \"data_student_B.csv\".\n",
    "\n",
    "Dear students, please help students A and B through solving the following three parts of questions. Please note that all data and models here are completely fictitious."
   ]
  },
  {
   "cell_type": "markdown",
   "id": "62b20c84",
   "metadata": {},
   "source": [
    "# Bronze medal: Integral of a Polynomial\n",
    "\n",
    "a) Student A carefully examine his data and proposed a model: \n",
    "\n",
    "The clicks per hour with respect to time can be described by function \n",
    "\n",
    "## $y=7.98 \\times 10^{-5} \\cdot x^5 - 1.80 \\times 10^{-2} \\cdot x^4 + 1.48 \\cdot x^3 - 52.5 \\cdot x^2 + 680 \\cdot x$\n",
    "\n",
    "where x is the past time in hour and y is the clicks. Can you plot the data and this function to have a look?\n"
   ]
  },
  {
   "cell_type": "code",
   "execution_count": 23,
   "id": "a0473d35",
   "metadata": {},
   "outputs": [
    {
     "data": {
      "text/html": [
       "<div>\n",
       "<style scoped>\n",
       "    .dataframe tbody tr th:only-of-type {\n",
       "        vertical-align: middle;\n",
       "    }\n",
       "\n",
       "    .dataframe tbody tr th {\n",
       "        vertical-align: top;\n",
       "    }\n",
       "\n",
       "    .dataframe thead th {\n",
       "        text-align: right;\n",
       "    }\n",
       "</style>\n",
       "<table border=\"1\" class=\"dataframe\">\n",
       "  <thead>\n",
       "    <tr style=\"text-align: right;\">\n",
       "      <th></th>\n",
       "      <th>clicks per hour</th>\n",
       "    </tr>\n",
       "    <tr>\n",
       "      <th>time (h)</th>\n",
       "      <th></th>\n",
       "    </tr>\n",
       "  </thead>\n",
       "  <tbody>\n",
       "    <tr>\n",
       "      <th>0.0</th>\n",
       "      <td>0.000000</td>\n",
       "    </tr>\n",
       "    <tr>\n",
       "      <th>1.0</th>\n",
       "      <td>945.863514</td>\n",
       "    </tr>\n",
       "    <tr>\n",
       "      <th>2.0</th>\n",
       "      <td>1497.552108</td>\n",
       "    </tr>\n",
       "    <tr>\n",
       "      <th>3.0</th>\n",
       "      <td>2141.549795</td>\n",
       "    </tr>\n",
       "    <tr>\n",
       "      <th>4.0</th>\n",
       "      <td>2409.644235</td>\n",
       "    </tr>\n",
       "    <tr>\n",
       "      <th>...</th>\n",
       "      <td>...</td>\n",
       "    </tr>\n",
       "    <tr>\n",
       "      <th>76.0</th>\n",
       "      <td>71.904774</td>\n",
       "    </tr>\n",
       "    <tr>\n",
       "      <th>77.0</th>\n",
       "      <td>-51.598168</td>\n",
       "    </tr>\n",
       "    <tr>\n",
       "      <th>78.0</th>\n",
       "      <td>135.381542</td>\n",
       "    </tr>\n",
       "    <tr>\n",
       "      <th>79.0</th>\n",
       "      <td>-97.193130</td>\n",
       "    </tr>\n",
       "    <tr>\n",
       "      <th>80.0</th>\n",
       "      <td>22.498362</td>\n",
       "    </tr>\n",
       "  </tbody>\n",
       "</table>\n",
       "<p>81 rows × 1 columns</p>\n",
       "</div>"
      ],
      "text/plain": [
       "           clicks per hour\n",
       "time (h)                  \n",
       "0.0               0.000000\n",
       "1.0             945.863514\n",
       "2.0            1497.552108\n",
       "3.0            2141.549795\n",
       "4.0            2409.644235\n",
       "...                    ...\n",
       "76.0             71.904774\n",
       "77.0            -51.598168\n",
       "78.0            135.381542\n",
       "79.0            -97.193130\n",
       "80.0             22.498362\n",
       "\n",
       "[81 rows x 1 columns]"
      ]
     },
     "metadata": {},
     "output_type": "display_data"
    },
    {
     "data": {
      "text/plain": [
       "[<matplotlib.lines.Line2D at 0x23d5b42c880>]"
      ]
     },
     "execution_count": 23,
     "metadata": {},
     "output_type": "execute_result"
    },
    {
     "data": {
      "image/png": "[encoded data removed]",
      "text/plain": [
       "<Figure size 640x480 with 1 Axes>"
      ]
     },
     "metadata": {},
     "output_type": "display_data"
    }
   ],
   "source": [
    "import matplotlib.pyplot as plt\n",
    "import pandas as pd \n",
    "\n",
    "df_A = pd.read_csv(\"data_student_A.csv\").set_index(\"time (h)\")\n",
    "display(df_A)\n",
    "\n",
    "def f(x):\n",
    "    return 7.98e-5 * x**5 - 1.80e-2 * x**4 + 1.48 * x**3 - 52.5 * x**2 + 680 * x\n",
    "\n",
    "x = np.arange(0, 81, 0.1)\n",
    "y = f(x)\n",
    "\n",
    "plt.plot(df_A)\n",
    "plt.plot(x, y)\n",
    "\n"
   ]
  },
  {
   "cell_type": "markdown",
   "id": "60dc5670",
   "metadata": {},
   "source": [
    "b) When students A meet student B, they come into a big discussion, they think that the change in total viewing time should be reflected in the number of clicks per hour. That means they can use knowledge of Calculus to find the relationship between them. \n",
    "\n",
    "Can you find the indefinite integral of the function proposed by Student A?"
   ]
  },
  {
   "cell_type": "code",
   "execution_count": null,
   "id": "cda2bd7d",
   "metadata": {},
   "outputs": [],
   "source": [
    "#  y'(x) = 0.0000133 * (x^6) - 0.0036 * (x^5) + 0.37 * (x^4) - 17.5 * (x^3) + 340 * (x^2) + C"
   ]
  },
  {
   "cell_type": "markdown",
   "id": "b508641e",
   "metadata": {},
   "source": [
    "c) After communicating with the Youtuber and getting more data from his account, they found that the average viewing time of all audience for this video was 18 minutes. \n",
    "Based on this information, if Student A's model is justified, which function should the total viewing time in minutes be? \n",
    "\n",
    "Note that, when the time is 0, the total viewing time should be also 0, that means the funtion should pass the origin.\n",
    "\n",
    "You can plot the data of student B and this function to check that."
   ]
  },
  {
   "cell_type": "code",
   "execution_count": 33,
   "id": "d6c85e67",
   "metadata": {},
   "outputs": [
    {
     "data": {
      "text/html": [
       "<div>\n",
       "<style scoped>\n",
       "    .dataframe tbody tr th:only-of-type {\n",
       "        vertical-align: middle;\n",
       "    }\n",
       "\n",
       "    .dataframe tbody tr th {\n",
       "        vertical-align: top;\n",
       "    }\n",
       "\n",
       "    .dataframe thead th {\n",
       "        text-align: right;\n",
       "    }\n",
       "</style>\n",
       "<table border=\"1\" class=\"dataframe\">\n",
       "  <thead>\n",
       "    <tr style=\"text-align: right;\">\n",
       "      <th></th>\n",
       "      <th>Total viewing time (min)</th>\n",
       "    </tr>\n",
       "    <tr>\n",
       "      <th>time (h)</th>\n",
       "      <th></th>\n",
       "    </tr>\n",
       "  </thead>\n",
       "  <tbody>\n",
       "    <tr>\n",
       "      <th>0.0</th>\n",
       "      <td>0.0</td>\n",
       "    </tr>\n",
       "    <tr>\n",
       "      <th>1.0</th>\n",
       "      <td>20000.0</td>\n",
       "    </tr>\n",
       "    <tr>\n",
       "      <th>2.0</th>\n",
       "      <td>65100.0</td>\n",
       "    </tr>\n",
       "    <tr>\n",
       "      <th>3.0</th>\n",
       "      <td>108000.0</td>\n",
       "    </tr>\n",
       "    <tr>\n",
       "      <th>4.0</th>\n",
       "      <td>66900.0</td>\n",
       "    </tr>\n",
       "    <tr>\n",
       "      <th>...</th>\n",
       "      <td>...</td>\n",
       "    </tr>\n",
       "    <tr>\n",
       "      <th>76.0</th>\n",
       "      <td>1150000.0</td>\n",
       "    </tr>\n",
       "    <tr>\n",
       "      <th>77.0</th>\n",
       "      <td>1160000.0</td>\n",
       "    </tr>\n",
       "    <tr>\n",
       "      <th>78.0</th>\n",
       "      <td>1180000.0</td>\n",
       "    </tr>\n",
       "    <tr>\n",
       "      <th>79.0</th>\n",
       "      <td>1130000.0</td>\n",
       "    </tr>\n",
       "    <tr>\n",
       "      <th>80.0</th>\n",
       "      <td>1140000.0</td>\n",
       "    </tr>\n",
       "  </tbody>\n",
       "</table>\n",
       "<p>81 rows × 1 columns</p>\n",
       "</div>"
      ],
      "text/plain": [
       "          Total viewing time (min)\n",
       "time (h)                          \n",
       "0.0                            0.0\n",
       "1.0                        20000.0\n",
       "2.0                        65100.0\n",
       "3.0                       108000.0\n",
       "4.0                        66900.0\n",
       "...                            ...\n",
       "76.0                     1150000.0\n",
       "77.0                     1160000.0\n",
       "78.0                     1180000.0\n",
       "79.0                     1130000.0\n",
       "80.0                     1140000.0\n",
       "\n",
       "[81 rows x 1 columns]"
      ]
     },
     "metadata": {},
     "output_type": "display_data"
    },
    {
     "data": {
      "text/plain": [
       "[<matplotlib.lines.Line2D at 0x23d5b615670>]"
      ]
     },
     "execution_count": 33,
     "metadata": {},
     "output_type": "execute_result"
    },
    {
     "data": {
      "image/png": "[encoded data removed]",
      "text/plain": [
       "<Figure size 640x480 with 1 Axes>"
      ]
     },
     "metadata": {},
     "output_type": "display_data"
    }
   ],
   "source": [
    "z = 0.0000133*x**6 - 0.0036*x**5 + 0.37*x**4 - 17.5*x**3 + 340 *x**2\n",
    "def IntegralPoly(z):\n",
    "    y = 18*(z)\n",
    "    pass\n",
    "    return y\n",
    "\n",
    "df_B = pd.read_csv(\"data_student_B.csv\").set_index(\"time (h)\")\n",
    "display(df_B)\n",
    "\n",
    "x = np.arange(0, 81, 0.1)\n",
    "y = IntegralPoly(z)\n",
    "\n",
    "plt.plot(x,y)\n",
    "plt.plot(df_B)"
   ]
  },
  {
   "cell_type": "markdown",
   "id": "5c26b15c",
   "metadata": {},
   "source": [
    "You can use the following code to compare the answer and your result."
   ]
  },
  {
   "cell_type": "code",
   "execution_count": 34,
   "id": "1f04f349",
   "metadata": {},
   "outputs": [
    {
     "name": "stdout",
     "output_type": "stream",
     "text": [
      "The answer is: \n",
      "def IntegralPoly(x):\n",
      "    y = 18*(1.33e-05*x**6 -3.6e-03*x**5 +3.7e-01*x**4 -1.75e+01*x**3 +3.4e+02*x**2)\n",
      "    return y\n",
      "\n",
      "or\n",
      "\n",
      "def IntegralPoly(x):\n",
      "    y = 2.394e-04*x**6 -6.480e-02*x**5 +6.660e+00*x**4 -3.150e+02*x**3 +6.120e+03*x**2)\n",
      "    return y\n",
      "\n",
      "\n"
     ]
    }
   ],
   "source": [
    "# Run the following code to show the answer\n",
    "print(base64.b64decode(\"VGhlIGFuc3dlciBpczogCmRlZiBJbnRlZ3JhbFBvbHkoeCk6CiAgICB5ID0gMTgqKDEuMzNlLTA1KngqKjYgLTMuNmUtMDMqeCoqNSArMy43ZS0wMSp4Kio0IC0xLjc1ZSswMSp4KiozICszLjRlKzAyKngqKjIpCiAgICByZXR1cm4geQoKb3IKCmRlZiBJbnRlZ3JhbFBvbHkoeCk6CiAgICB5ID0gMi4zOTRlLTA0KngqKjYgLTYuNDgwZS0wMip4Kio1ICs2LjY2MGUrMDAqeCoqNCAtMy4xNTBlKzAyKngqKjMgKzYuMTIwZSswMyp4KioyKQogICAgcmV0dXJuIHkKCg==\").decode())"
   ]
  },
  {
   "cell_type": "markdown",
   "id": "99470687",
   "metadata": {},
   "source": [
    "# Silver medal: Find the derivative of a function using the product rule and the rule of composite function"
   ]
  },
  {
   "cell_type": "markdown",
   "id": "62b0511b",
   "metadata": {},
   "source": [
    "a) Student B carefully examined his data and checked the literature. After that, he use this function to fit his data:\n",
    "\n",
    "## $y=144000\\cdot e^{-x/8}\\left( -x - 8\\right)+1152000$\n",
    "\n",
    "where x is the past time in hour and y is the total viewing time (in the unit of minus). \n",
    "\n",
    "Can you find the deriviative of this function?"
   ]
  },
  {
   "cell_type": "code",
   "execution_count": null,
   "id": "dbdb1dff",
   "metadata": {},
   "outputs": [],
   "source": []
  },
  {
   "cell_type": "markdown",
   "id": "e2bf4a7f",
   "metadata": {},
   "source": [
    "b) Following their previous discussion, assuming the correctness of the function found by Student B, they should be able to find the function that the number of clicks per hour will obey. Can you help them find this function?\n",
    "\n",
    "You can plot the data of student A and this function to check that."
   ]
  },
  {
   "cell_type": "code",
   "execution_count": 7,
   "id": "d9eda3cd",
   "metadata": {},
   "outputs": [],
   "source": [
    "def DerivativeExp(x):\n",
    "    # TO DO\n",
    "    pass\n",
    "    return # TO DO"
   ]
  },
  {
   "cell_type": "markdown",
   "id": "25a10518",
   "metadata": {},
   "source": [
    "# Gold medal: Find the derivative of a function using the quotient rule and conducting optimization"
   ]
  },
  {
   "cell_type": "markdown",
   "id": "8e19ebfe",
   "metadata": {},
   "source": [
    "a) Student C found their work very interesting and got involved. In some other paper, Student C had read that the Sigmoid function was very useful for this type of data and he decided to create such a model. After a regression to get the constants, his function was::\n",
    "\n",
    "## $f(x) = \\left(\\frac{1.65 \\times 10^6} {1 + \\exp{\\left(-\\frac{x}{8} + 1\\right)}} \\right)-5\\times 10^5$\n",
    "\n",
    "Can you help Student C find the function that demonstrates clicks per hour as a function of time?"
   ]
  },
  {
   "cell_type": "code",
   "execution_count": 8,
   "id": "47153884",
   "metadata": {},
   "outputs": [],
   "source": [
    "def DerivativeSig(x):\n",
    "    # TO DO\n",
    "    pass\n",
    "    return # TO DO"
   ]
  },
  {
   "cell_type": "markdown",
   "id": "d4da1675",
   "metadata": {},
   "source": [
    "b) At this point we already have 3 models. Judging by the plots and your naked eye, which one do you think is the best?"
   ]
  },
  {
   "cell_type": "code",
   "execution_count": 9,
   "id": "ff59a3e2-d8df-413b-b48f-92e27505f645",
   "metadata": {},
   "outputs": [],
   "source": [
    "# You can determine the best model in a variety of methods. "
   ]
  },
  {
   "cell_type": "code",
   "execution_count": 10,
   "id": "2b75a408-1fd4-4108-a337-44aee9bf307e",
   "metadata": {},
   "outputs": [],
   "source": [
    "# Then fill in the final result here, or define the best model as a function of the same name\n",
    "\n",
    "BestModel = None #TO DO\n"
   ]
  },
  {
   "cell_type": "markdown",
   "id": "4bda7120-350f-4f25-8365-886daf562a48",
   "metadata": {},
   "source": [
    "c) Use the best model to calculate: at which hour does clicks per hour reach its maximum value? (rounded to two decimal places)"
   ]
  },
  {
   "cell_type": "code",
   "execution_count": 11,
   "id": "f210dade-496d-44ab-941a-e4a3ae2826fc",
   "metadata": {},
   "outputs": [
    {
     "ename": "TypeError",
     "evalue": "unsupported format string passed to NoneType.__format__",
     "output_type": "error",
     "traceback": [
      "\u001b[1;31m---------------------------------------------------------------------------\u001b[0m",
      "\u001b[1;31mTypeError\u001b[0m                                 Traceback (most recent call last)",
      "Cell \u001b[1;32mIn[11], line 9\u001b[0m\n\u001b[0;32m      6\u001b[0m     \u001b[39mreturn\u001b[39;00m \u001b[39m# TO DO\u001b[39;00m\n\u001b[0;32m      8\u001b[0m \u001b[39m# Print the maximum clicks per hour\u001b[39;00m\n\u001b[1;32m----> 9\u001b[0m \u001b[39mprint\u001b[39m(\u001b[39m\"\u001b[39;49m\u001b[39mThe maximum clicks per hour occur at \u001b[39;49m\u001b[39m{:.2f}\u001b[39;49;00m\u001b[39m.\u001b[39;49m\u001b[39m\"\u001b[39;49m\u001b[39m.\u001b[39;49mformat(find_max_clicks(BestModel)))\n",
      "\u001b[1;31mTypeError\u001b[0m: unsupported format string passed to NoneType.__format__"
     ]
    }
   ],
   "source": [
    "# Start to calculate the time (hour) for the highest value\n",
    "# You can import any package you want\n",
    "def find_max_clicks(BestModel):\n",
    "    # TO DO\n",
    "    pass\n",
    "    return # TO DO\n",
    "\n",
    "# Print the maximum clicks per hour\n",
    "print(\"The maximum clicks per hour occur at {:.2f}.\".format(find_max_clicks(BestModel)))"
   ]
  },
  {
   "cell_type": "markdown",
   "id": "2b5cebf6",
   "metadata": {},
   "source": [
    "d) This YouTuber happened to get a double-coupon. This special double-coupon can doubles his profits from all viewings for 5 hours and he can choose the exact time to start. Based on the model we found, can you suggest which hour he should start using this coupon? The time is counted as 0 when his video is published. (rounded to two decimal places)"
   ]
  },
  {
   "cell_type": "code",
   "execution_count": null,
   "id": "09b1d9a8",
   "metadata": {},
   "outputs": [],
   "source": [
    "# Start to calculate the best time (hour) for the coupon\n",
    "# You can use places outside of this function, including defining new parameters and new functions.\n",
    "def find_best_coupon_time(BestModel):\n",
    "    # TO DO\n",
    "    pass\n",
    "    return # TO DO\n",
    "\n",
    "# Finding best 5-hour period to activate the double coupon\n",
    "print(\"The best time to start the 5-hour double coupon is at hour {:.2f}\".format(find_best_coupon_time(BestModel)))"
   ]
  },
  {
   "cell_type": "code",
   "execution_count": null,
   "id": "e1ae2a1a-affb-4d03-8703-6764593187b0",
   "metadata": {},
   "outputs": [],
   "source": []
  }
 ],
 "metadata": {
  "kernelspec": {
   "display_name": "base",
   "language": "python",
   "name": "python3"
  },
  "language_info": {
   "codemirror_mode": {
    "name": "ipython",
    "version": 3
   },
   "file_extension": ".py",
   "mimetype": "text/x-python",
   "name": "python",
   "nbconvert_exporter": "python",
   "pygments_lexer": "ipython3",
   "version": "3.9.16"
  }
 },
 "nbformat": 4,
 "nbformat_minor": 5
}
